{
 "cells": [
  {
   "cell_type": "markdown",
   "metadata": {},
   "source": [
    "## Importing libraries"
   ]
  },
  {
   "cell_type": "code",
   "execution_count": 126,
   "metadata": {},
   "outputs": [
    {
     "name": "stdout",
     "output_type": "stream",
     "text": [
      "Requirement already satisfied: pyomo in /home/rafael/anaconda3/lib/python3.7/site-packages (5.7.2)\n",
      "Requirement already satisfied: six>=1.4 in /home/rafael/anaconda3/lib/python3.7/site-packages (from pyomo) (1.14.0)\n",
      "Requirement already satisfied: ply in /home/rafael/anaconda3/lib/python3.7/site-packages (from pyomo) (3.11)\n",
      "Requirement already satisfied: PyUtilib>=6.0.0 in /home/rafael/anaconda3/lib/python3.7/site-packages (from pyomo) (6.0.0)\n",
      "Requirement already satisfied: nose in /home/rafael/anaconda3/lib/python3.7/site-packages (from PyUtilib>=6.0.0->pyomo) (1.3.7)\n",
      "Requirement already satisfied: pypsa in /home/rafael/anaconda3/lib/python3.7/site-packages (0.17.1)\n",
      "Requirement already satisfied: networkx>=1.10 in /home/rafael/anaconda3/lib/python3.7/site-packages (from pypsa) (2.4)\n",
      "Requirement already satisfied: matplotlib in /home/rafael/anaconda3/lib/python3.7/site-packages (from pypsa) (3.1.3)\n",
      "Requirement already satisfied: numpy in /home/rafael/anaconda3/lib/python3.7/site-packages (from pypsa) (1.18.1)\n",
      "Requirement already satisfied: pandas>=0.24.0 in /home/rafael/anaconda3/lib/python3.7/site-packages (from pypsa) (1.0.1)\n",
      "Requirement already satisfied: tables in /home/rafael/anaconda3/lib/python3.7/site-packages (from pypsa) (3.6.1)\n",
      "Requirement already satisfied: six>=1.13.0 in /home/rafael/anaconda3/lib/python3.7/site-packages (from pypsa) (1.14.0)\n",
      "Requirement already satisfied: scipy in /home/rafael/anaconda3/lib/python3.7/site-packages (from pypsa) (1.4.1)\n",
      "Requirement already satisfied: pyomo>=5.7 in /home/rafael/anaconda3/lib/python3.7/site-packages (from pypsa) (5.7.2)\n",
      "Requirement already satisfied: decorator>=4.3.0 in /home/rafael/anaconda3/lib/python3.7/site-packages (from networkx>=1.10->pypsa) (4.4.1)\n",
      "Requirement already satisfied: pyparsing!=2.0.4,!=2.1.2,!=2.1.6,>=2.0.1 in /home/rafael/anaconda3/lib/python3.7/site-packages (from matplotlib->pypsa) (2.4.6)\n",
      "Requirement already satisfied: cycler>=0.10 in /home/rafael/anaconda3/lib/python3.7/site-packages (from matplotlib->pypsa) (0.10.0)\n",
      "Requirement already satisfied: python-dateutil>=2.1 in /home/rafael/anaconda3/lib/python3.7/site-packages (from matplotlib->pypsa) (2.8.1)\n",
      "Requirement already satisfied: kiwisolver>=1.0.1 in /home/rafael/anaconda3/lib/python3.7/site-packages (from matplotlib->pypsa) (1.1.0)\n",
      "Requirement already satisfied: pytz>=2017.2 in /home/rafael/anaconda3/lib/python3.7/site-packages (from pandas>=0.24.0->pypsa) (2019.3)\n",
      "Requirement already satisfied: numexpr>=2.6.2 in /home/rafael/anaconda3/lib/python3.7/site-packages (from tables->pypsa) (2.7.1)\n",
      "Requirement already satisfied: ply in /home/rafael/anaconda3/lib/python3.7/site-packages (from pyomo>=5.7->pypsa) (3.11)\n",
      "Requirement already satisfied: PyUtilib>=6.0.0 in /home/rafael/anaconda3/lib/python3.7/site-packages (from pyomo>=5.7->pypsa) (6.0.0)\n",
      "Requirement already satisfied: setuptools in /home/rafael/anaconda3/lib/python3.7/site-packages (from kiwisolver>=1.0.1->matplotlib->pypsa) (45.2.0.post20200210)\n",
      "Requirement already satisfied: nose in /home/rafael/anaconda3/lib/python3.7/site-packages (from PyUtilib>=6.0.0->pyomo>=5.7->pypsa) (1.3.7)\n",
      "Requirement already satisfied: pandapower in /home/rafael/anaconda3/lib/python3.7/site-packages (2.4.0)\n",
      "Requirement already satisfied: scipy in /home/rafael/anaconda3/lib/python3.7/site-packages (from pandapower) (1.4.1)\n",
      "Requirement already satisfied: cryptography in /home/rafael/anaconda3/lib/python3.7/site-packages (from pandapower) (2.8)\n",
      "Requirement already satisfied: packaging in /home/rafael/anaconda3/lib/python3.7/site-packages (from pandapower) (20.1)\n",
      "Requirement already satisfied: pandas>=0.17 in /home/rafael/anaconda3/lib/python3.7/site-packages (from pandapower) (1.0.1)\n",
      "Requirement already satisfied: xlrd in /home/rafael/anaconda3/lib/python3.7/site-packages (from pandapower) (1.2.0)\n",
      "Requirement already satisfied: networkx in /home/rafael/anaconda3/lib/python3.7/site-packages (from pandapower) (2.4)\n",
      "Requirement already satisfied: numpy>=0.11 in /home/rafael/anaconda3/lib/python3.7/site-packages (from pandapower) (1.18.1)\n",
      "Requirement already satisfied: xlsxwriter in /home/rafael/anaconda3/lib/python3.7/site-packages (from pandapower) (1.2.7)\n",
      "Requirement already satisfied: six>=1.4.1 in /home/rafael/anaconda3/lib/python3.7/site-packages (from cryptography->pandapower) (1.14.0)\n",
      "Requirement already satisfied: cffi!=1.11.3,>=1.8 in /home/rafael/anaconda3/lib/python3.7/site-packages (from cryptography->pandapower) (1.14.0)\n",
      "Requirement already satisfied: pyparsing>=2.0.2 in /home/rafael/anaconda3/lib/python3.7/site-packages (from packaging->pandapower) (2.4.6)\n",
      "Requirement already satisfied: python-dateutil>=2.6.1 in /home/rafael/anaconda3/lib/python3.7/site-packages (from pandas>=0.17->pandapower) (2.8.1)\n",
      "Requirement already satisfied: pytz>=2017.2 in /home/rafael/anaconda3/lib/python3.7/site-packages (from pandas>=0.17->pandapower) (2019.3)\n",
      "Requirement already satisfied: decorator>=4.3.0 in /home/rafael/anaconda3/lib/python3.7/site-packages (from networkx->pandapower) (4.4.1)\n",
      "Requirement already satisfied: pycparser in /home/rafael/anaconda3/lib/python3.7/site-packages (from cffi!=1.11.3,>=1.8->cryptography->pandapower) (2.19)\n"
     ]
    },
    {
     "data": {
      "text/plain": [
       "<torch._C.Generator at 0x7f2bf9ad5530>"
      ]
     },
     "execution_count": 126,
     "metadata": {},
     "output_type": "execute_result"
    }
   ],
   "source": [
    "# libraries\n",
    "from __future__ import print_function, division\n",
    "import numpy as np\n",
    "\n",
    "import torch\n",
    "import torch.nn as nn\n",
    "import torch.nn.functional as F\n",
    "import torch.optim as optim\n",
    "from torchvision import datasets, transforms\n",
    "from torch.autograd import Variable\n",
    "from torch.utils.data import TensorDataset, DataLoader\n",
    "\n",
    "import BayesianLayers\n",
    "from compression import compute_compression_rate, compute_reduced_weights\n",
    "from utils import visualize_pixel_importance, generate_gif, visualise_weights\n",
    "\n",
    "import os, sys\n",
    "import itertools\n",
    "from scipy import linalg\n",
    "import matplotlib as mpl\n",
    "!pip install pyomo\n",
    "!pip install pypsa\n",
    "!pip install pandapower\n",
    "import pypsa\n",
    "import pandapower as pp\n",
    "import pandapower.networks as pn\n",
    "from pandapower.estimation import estimate\n",
    "import random as rand\n",
    "import pandas as pd\n",
    "from sklearn import mixture\n",
    "import numpy as np\n",
    "import seaborn as sns\n",
    "from sklearn.model_selection import GridSearchCV\n",
    "import matplotlib.pyplot as plt\n",
    "import tensorflow as tf\n",
    "from datetime import datetime\n",
    "sns.set()\n",
    "rand.seed(2020)\n",
    "tf.random.set_seed(2020)\n",
    "torch.manual_seed(2020)"
   ]
  },
  {
   "cell_type": "code",
   "execution_count": 127,
   "metadata": {},
   "outputs": [],
   "source": [
    "from data_preprocessing import extract_consumption_values\n",
    "from bic import bic_criterion_gmm\n",
    "from define_network import define_network\n",
    "from generate_samples import generate_samples\n",
    "from compress_model import compress_model"
   ]
  },
  {
   "cell_type": "markdown",
   "metadata": {},
   "source": [
    "## Defining parameters"
   ]
  },
  {
   "cell_type": "markdown",
   "metadata": {},
   "source": [
    "### Obs: case_14s and case_57 correspond to the IEEE standard test cases. case_3 corresponds to the 3-bus minimal example network on PyPSA, while opf_storage_hvdc corresponds to the PyPSA opf_storage_hvdc example."
   ]
  },
  {
   "cell_type": "code",
   "execution_count": 128,
   "metadata": {},
   "outputs": [],
   "source": [
    "net_case = \"case_3\" # Select ['case_14s', 'case_57', 'case_3', 'opf_storage_hvdc']\n",
    "N = 60000.  # number of data points in the training set\n",
    "n_of_network_samples = 100\n",
    "n_of_gaussians = 5\n",
    "train_frac = 0.8\n",
    "percent_of_measurements = 0.4\n",
    "estimation_method = 'bad_data_removal' # Select ['standard','bad_data_removal']\n",
    "layer_proportions = [20,10]\n",
    "net_type = 'case_3' # Select ['pp','case_3', 'opf_storage_hvdc'] pp is for pandapower cases 14s and 57"
   ]
  },
  {
   "cell_type": "code",
   "execution_count": 129,
   "metadata": {},
   "outputs": [],
   "source": [
    "os.makedirs(\"./plots/\", exist_ok=True)"
   ]
  },
  {
   "cell_type": "markdown",
   "metadata": {},
   "source": [
    "## Fitting Solar and Normal data separately with Gaussian Mixture\n",
    "#### Initially, a GMM with 3 components will be fitted, like in the original paper. Later, other pdfs will be tested."
   ]
  },
  {
   "cell_type": "code",
   "execution_count": 130,
   "metadata": {},
   "outputs": [],
   "source": [
    "os.system(\"unzip electricity_data.zip\")\n",
    "base_path = \"./electricity_data/\"\n",
    "\n",
    "train_data_path = base_path + \"2011-2012 Solar home electricity data v2.csv\"\n",
    "test_data_path = base_path + \"2012-2013 Solar home electricity data v2.csv\""
   ]
  },
  {
   "cell_type": "code",
   "execution_count": 131,
   "metadata": {},
   "outputs": [],
   "source": [
    "train_data = pd.read_csv(train_data_path, skiprows=1)\n",
    "test_data = pd.read_csv(test_data_path, skiprows=1)"
   ]
  },
  {
   "cell_type": "markdown",
   "metadata": {},
   "source": [
    "### GC = General Consumption for electricity supplied all the time (primary tariff, either inclining block or time of use rates), excluding solar generation and controlled load supply \n",
    "### CL = Controlled Load Consumption (Off peak 1 or 2 tariffs)\n",
    "### GG = Gross Generation for electricity generated by the solar system with a gross metering configuration, measured separately to household loads"
   ]
  },
  {
   "cell_type": "code",
   "execution_count": 132,
   "metadata": {},
   "outputs": [
    {
     "data": {
      "text/html": [
       "<div>\n",
       "<style scoped>\n",
       "    .dataframe tbody tr th:only-of-type {\n",
       "        vertical-align: middle;\n",
       "    }\n",
       "\n",
       "    .dataframe tbody tr th {\n",
       "        vertical-align: top;\n",
       "    }\n",
       "\n",
       "    .dataframe thead th {\n",
       "        text-align: right;\n",
       "    }\n",
       "</style>\n",
       "<table border=\"1\" class=\"dataframe\">\n",
       "  <thead>\n",
       "    <tr style=\"text-align: right;\">\n",
       "      <th></th>\n",
       "      <th>Customer</th>\n",
       "      <th>Generator Capacity</th>\n",
       "      <th>Postcode</th>\n",
       "      <th>Consumption Category</th>\n",
       "      <th>date</th>\n",
       "      <th>0:30</th>\n",
       "      <th>1:00</th>\n",
       "      <th>1:30</th>\n",
       "      <th>2:00</th>\n",
       "      <th>2:30</th>\n",
       "      <th>...</th>\n",
       "      <th>20:00</th>\n",
       "      <th>20:30</th>\n",
       "      <th>21:00</th>\n",
       "      <th>21:30</th>\n",
       "      <th>22:00</th>\n",
       "      <th>22:30</th>\n",
       "      <th>23:00</th>\n",
       "      <th>23:30</th>\n",
       "      <th>0:00</th>\n",
       "      <th>Row Quality</th>\n",
       "    </tr>\n",
       "  </thead>\n",
       "  <tbody>\n",
       "    <tr>\n",
       "      <th>268552</th>\n",
       "      <td>300</td>\n",
       "      <td>3.36</td>\n",
       "      <td>2086</td>\n",
       "      <td>GC</td>\n",
       "      <td>29/06/2013</td>\n",
       "      <td>0.171</td>\n",
       "      <td>0.832</td>\n",
       "      <td>0.440</td>\n",
       "      <td>0.745</td>\n",
       "      <td>0.149</td>\n",
       "      <td>...</td>\n",
       "      <td>0.383</td>\n",
       "      <td>0.404</td>\n",
       "      <td>0.367</td>\n",
       "      <td>0.398</td>\n",
       "      <td>0.350</td>\n",
       "      <td>0.228</td>\n",
       "      <td>0.170</td>\n",
       "      <td>0.139</td>\n",
       "      <td>0.171</td>\n",
       "      <td>NaN</td>\n",
       "    </tr>\n",
       "    <tr>\n",
       "      <th>268553</th>\n",
       "      <td>300</td>\n",
       "      <td>3.36</td>\n",
       "      <td>2086</td>\n",
       "      <td>GG</td>\n",
       "      <td>29/06/2013</td>\n",
       "      <td>0.000</td>\n",
       "      <td>0.000</td>\n",
       "      <td>0.000</td>\n",
       "      <td>0.000</td>\n",
       "      <td>0.000</td>\n",
       "      <td>...</td>\n",
       "      <td>0.000</td>\n",
       "      <td>0.000</td>\n",
       "      <td>0.000</td>\n",
       "      <td>0.000</td>\n",
       "      <td>0.000</td>\n",
       "      <td>0.000</td>\n",
       "      <td>0.000</td>\n",
       "      <td>0.000</td>\n",
       "      <td>0.000</td>\n",
       "      <td>NaN</td>\n",
       "    </tr>\n",
       "    <tr>\n",
       "      <th>268554</th>\n",
       "      <td>300</td>\n",
       "      <td>3.36</td>\n",
       "      <td>2086</td>\n",
       "      <td>CL</td>\n",
       "      <td>30/06/2013</td>\n",
       "      <td>2.501</td>\n",
       "      <td>2.475</td>\n",
       "      <td>2.491</td>\n",
       "      <td>2.508</td>\n",
       "      <td>2.490</td>\n",
       "      <td>...</td>\n",
       "      <td>0.000</td>\n",
       "      <td>0.000</td>\n",
       "      <td>0.000</td>\n",
       "      <td>0.000</td>\n",
       "      <td>0.000</td>\n",
       "      <td>0.000</td>\n",
       "      <td>0.000</td>\n",
       "      <td>0.000</td>\n",
       "      <td>2.468</td>\n",
       "      <td>NaN</td>\n",
       "    </tr>\n",
       "    <tr>\n",
       "      <th>268555</th>\n",
       "      <td>300</td>\n",
       "      <td>3.36</td>\n",
       "      <td>2086</td>\n",
       "      <td>GC</td>\n",
       "      <td>30/06/2013</td>\n",
       "      <td>0.150</td>\n",
       "      <td>0.158</td>\n",
       "      <td>0.157</td>\n",
       "      <td>0.137</td>\n",
       "      <td>0.163</td>\n",
       "      <td>...</td>\n",
       "      <td>0.625</td>\n",
       "      <td>0.595</td>\n",
       "      <td>0.695</td>\n",
       "      <td>0.646</td>\n",
       "      <td>0.581</td>\n",
       "      <td>0.458</td>\n",
       "      <td>0.472</td>\n",
       "      <td>0.732</td>\n",
       "      <td>0.297</td>\n",
       "      <td>NaN</td>\n",
       "    </tr>\n",
       "    <tr>\n",
       "      <th>268556</th>\n",
       "      <td>300</td>\n",
       "      <td>3.36</td>\n",
       "      <td>2086</td>\n",
       "      <td>GG</td>\n",
       "      <td>30/06/2013</td>\n",
       "      <td>0.000</td>\n",
       "      <td>0.000</td>\n",
       "      <td>0.000</td>\n",
       "      <td>0.000</td>\n",
       "      <td>0.000</td>\n",
       "      <td>...</td>\n",
       "      <td>0.000</td>\n",
       "      <td>0.000</td>\n",
       "      <td>0.000</td>\n",
       "      <td>0.000</td>\n",
       "      <td>0.000</td>\n",
       "      <td>0.000</td>\n",
       "      <td>0.000</td>\n",
       "      <td>0.000</td>\n",
       "      <td>0.000</td>\n",
       "      <td>NaN</td>\n",
       "    </tr>\n",
       "  </tbody>\n",
       "</table>\n",
       "<p>5 rows × 54 columns</p>\n",
       "</div>"
      ],
      "text/plain": [
       "        Customer  Generator Capacity  Postcode Consumption Category  \\\n",
       "268552       300                3.36      2086                   GC   \n",
       "268553       300                3.36      2086                   GG   \n",
       "268554       300                3.36      2086                   CL   \n",
       "268555       300                3.36      2086                   GC   \n",
       "268556       300                3.36      2086                   GG   \n",
       "\n",
       "              date   0:30   1:00   1:30   2:00   2:30  ...  20:00  20:30  \\\n",
       "268552  29/06/2013  0.171  0.832  0.440  0.745  0.149  ...  0.383  0.404   \n",
       "268553  29/06/2013  0.000  0.000  0.000  0.000  0.000  ...  0.000  0.000   \n",
       "268554  30/06/2013  2.501  2.475  2.491  2.508  2.490  ...  0.000  0.000   \n",
       "268555  30/06/2013  0.150  0.158  0.157  0.137  0.163  ...  0.625  0.595   \n",
       "268556  30/06/2013  0.000  0.000  0.000  0.000  0.000  ...  0.000  0.000   \n",
       "\n",
       "        21:00  21:30  22:00  22:30  23:00  23:30   0:00  Row Quality  \n",
       "268552  0.367  0.398  0.350  0.228  0.170  0.139  0.171          NaN  \n",
       "268553  0.000  0.000  0.000  0.000  0.000  0.000  0.000          NaN  \n",
       "268554  0.000  0.000  0.000  0.000  0.000  0.000  2.468          NaN  \n",
       "268555  0.695  0.646  0.581  0.458  0.472  0.732  0.297          NaN  \n",
       "268556  0.000  0.000  0.000  0.000  0.000  0.000  0.000          NaN  \n",
       "\n",
       "[5 rows x 54 columns]"
      ]
     },
     "execution_count": 132,
     "metadata": {},
     "output_type": "execute_result"
    }
   ],
   "source": [
    "test_data.tail()"
   ]
  },
  {
   "cell_type": "code",
   "execution_count": 133,
   "metadata": {},
   "outputs": [],
   "source": [
    "train_data_general, train_data_solar = extract_consumption_values(train_data)\n",
    "test_data_general, test_data_solar = extract_consumption_values(test_data)"
   ]
  },
  {
   "cell_type": "code",
   "execution_count": 134,
   "metadata": {},
   "outputs": [],
   "source": [
    "train_values = np.reshape(train_data_general.values, (train_data_general.shape[0]*train_data_general.shape[1],1))\n",
    "test_values = np.reshape(test_data_general.values, (test_data_general.shape[0]*test_data_general.shape[1],1))"
   ]
  },
  {
   "cell_type": "code",
   "execution_count": 82,
   "metadata": {},
   "outputs": [
    {
     "ename": "KeyboardInterrupt",
     "evalue": "",
     "output_type": "error",
     "traceback": [
      "\u001b[0;31m---------------------------------------------------------------------------\u001b[0m",
      "\u001b[0;31mKeyboardInterrupt\u001b[0m                         Traceback (most recent call last)",
      "\u001b[0;32m<ipython-input-82-05a7a408f1e8>\u001b[0m in \u001b[0;36m<module>\u001b[0;34m\u001b[0m\n\u001b[0;32m----> 1\u001b[0;31m \u001b[0mbic_criterion_gmm\u001b[0m\u001b[0;34m(\u001b[0m\u001b[0;36m10\u001b[0m\u001b[0;34m,\u001b[0m \u001b[0mtrain_values\u001b[0m\u001b[0;34m,\u001b[0m \u001b[0mtest_values\u001b[0m\u001b[0;34m)\u001b[0m\u001b[0;34m\u001b[0m\u001b[0;34m\u001b[0m\u001b[0m\n\u001b[0m",
      "\u001b[0;32m~/BCDL_SEEEDN/bic.py\u001b[0m in \u001b[0;36mbic_criterion_gmm\u001b[0;34m(max_num_components, train_values, test_values)\u001b[0m\n\u001b[1;32m     17\u001b[0m             \u001b[0mgmm\u001b[0m \u001b[0;34m=\u001b[0m \u001b[0mmixture\u001b[0m\u001b[0;34m.\u001b[0m\u001b[0mGaussianMixture\u001b[0m\u001b[0;34m(\u001b[0m\u001b[0mn_components\u001b[0m\u001b[0;34m=\u001b[0m\u001b[0mj\u001b[0m\u001b[0;34m)\u001b[0m\u001b[0;34m\u001b[0m\u001b[0;34m\u001b[0m\u001b[0m\n\u001b[1;32m     18\u001b[0m             \u001b[0;31m#fit it to the data\u001b[0m\u001b[0;34m\u001b[0m\u001b[0;34m\u001b[0m\u001b[0;34m\u001b[0m\u001b[0m\n\u001b[0;32m---> 19\u001b[0;31m             \u001b[0mgmm\u001b[0m\u001b[0;34m.\u001b[0m\u001b[0mfit\u001b[0m\u001b[0;34m(\u001b[0m\u001b[0mtrain_values\u001b[0m\u001b[0;34m)\u001b[0m\u001b[0;34m\u001b[0m\u001b[0;34m\u001b[0m\u001b[0m\n\u001b[0m\u001b[1;32m     20\u001b[0m             \u001b[0;31m#compute the BIC for this model\u001b[0m\u001b[0;34m\u001b[0m\u001b[0;34m\u001b[0m\u001b[0;34m\u001b[0m\u001b[0m\n\u001b[1;32m     21\u001b[0m             \u001b[0mbic\u001b[0m\u001b[0;34m[\u001b[0m\u001b[0mi\u001b[0m\u001b[0;34m]\u001b[0m \u001b[0;34m=\u001b[0m \u001b[0mgmm\u001b[0m\u001b[0;34m.\u001b[0m\u001b[0mbic\u001b[0m\u001b[0;34m(\u001b[0m\u001b[0mtest_values\u001b[0m\u001b[0;34m)\u001b[0m\u001b[0;34m\u001b[0m\u001b[0;34m\u001b[0m\u001b[0m\n",
      "\u001b[0;32m~/anaconda3/lib/python3.7/site-packages/sklearn/mixture/_base.py\u001b[0m in \u001b[0;36mfit\u001b[0;34m(self, X, y)\u001b[0m\n\u001b[1;32m    191\u001b[0m         \u001b[0mself\u001b[0m\u001b[0;34m\u001b[0m\u001b[0;34m\u001b[0m\u001b[0m\n\u001b[1;32m    192\u001b[0m         \"\"\"\n\u001b[0;32m--> 193\u001b[0;31m         \u001b[0mself\u001b[0m\u001b[0;34m.\u001b[0m\u001b[0mfit_predict\u001b[0m\u001b[0;34m(\u001b[0m\u001b[0mX\u001b[0m\u001b[0;34m,\u001b[0m \u001b[0my\u001b[0m\u001b[0;34m)\u001b[0m\u001b[0;34m\u001b[0m\u001b[0;34m\u001b[0m\u001b[0m\n\u001b[0m\u001b[1;32m    194\u001b[0m         \u001b[0;32mreturn\u001b[0m \u001b[0mself\u001b[0m\u001b[0;34m\u001b[0m\u001b[0;34m\u001b[0m\u001b[0m\n\u001b[1;32m    195\u001b[0m \u001b[0;34m\u001b[0m\u001b[0m\n",
      "\u001b[0;32m~/anaconda3/lib/python3.7/site-packages/sklearn/mixture/_base.py\u001b[0m in \u001b[0;36mfit_predict\u001b[0;34m(self, X, y)\u001b[0m\n\u001b[1;32m    244\u001b[0m \u001b[0;34m\u001b[0m\u001b[0m\n\u001b[1;32m    245\u001b[0m                 \u001b[0mlog_prob_norm\u001b[0m\u001b[0;34m,\u001b[0m \u001b[0mlog_resp\u001b[0m \u001b[0;34m=\u001b[0m \u001b[0mself\u001b[0m\u001b[0;34m.\u001b[0m\u001b[0m_e_step\u001b[0m\u001b[0;34m(\u001b[0m\u001b[0mX\u001b[0m\u001b[0;34m)\u001b[0m\u001b[0;34m\u001b[0m\u001b[0;34m\u001b[0m\u001b[0m\n\u001b[0;32m--> 246\u001b[0;31m                 \u001b[0mself\u001b[0m\u001b[0;34m.\u001b[0m\u001b[0m_m_step\u001b[0m\u001b[0;34m(\u001b[0m\u001b[0mX\u001b[0m\u001b[0;34m,\u001b[0m \u001b[0mlog_resp\u001b[0m\u001b[0;34m)\u001b[0m\u001b[0;34m\u001b[0m\u001b[0;34m\u001b[0m\u001b[0m\n\u001b[0m\u001b[1;32m    247\u001b[0m                 lower_bound = self._compute_lower_bound(\n\u001b[1;32m    248\u001b[0m                     log_resp, log_prob_norm)\n",
      "\u001b[0;32m~/anaconda3/lib/python3.7/site-packages/sklearn/mixture/_gaussian_mixture.py\u001b[0m in \u001b[0;36m_m_step\u001b[0;34m(self, X, log_resp)\u001b[0m\n\u001b[1;32m    673\u001b[0m         \u001b[0mn_samples\u001b[0m\u001b[0;34m,\u001b[0m \u001b[0m_\u001b[0m \u001b[0;34m=\u001b[0m \u001b[0mX\u001b[0m\u001b[0;34m.\u001b[0m\u001b[0mshape\u001b[0m\u001b[0;34m\u001b[0m\u001b[0;34m\u001b[0m\u001b[0m\n\u001b[1;32m    674\u001b[0m         self.weights_, self.means_, self.covariances_ = (\n\u001b[0;32m--> 675\u001b[0;31m             _estimate_gaussian_parameters(X, np.exp(log_resp), self.reg_covar,\n\u001b[0m\u001b[1;32m    676\u001b[0m                                           self.covariance_type))\n\u001b[1;32m    677\u001b[0m         \u001b[0mself\u001b[0m\u001b[0;34m.\u001b[0m\u001b[0mweights_\u001b[0m \u001b[0;34m/=\u001b[0m \u001b[0mn_samples\u001b[0m\u001b[0;34m\u001b[0m\u001b[0;34m\u001b[0m\u001b[0m\n",
      "\u001b[0;31mKeyboardInterrupt\u001b[0m: "
     ]
    }
   ],
   "source": [
    "bic_criterion_gmm(10, train_values, test_values)"
   ]
  },
  {
   "cell_type": "markdown",
   "metadata": {},
   "source": [
    "#### n_of_components=5 was initially chosen"
   ]
  },
  {
   "cell_type": "code",
   "execution_count": 135,
   "metadata": {},
   "outputs": [
    {
     "data": {
      "text/plain": [
       "GaussianMixture(n_components=5)"
      ]
     },
     "execution_count": 135,
     "metadata": {},
     "output_type": "execute_result"
    }
   ],
   "source": [
    "gmm = mixture.GaussianMixture(n_components=n_of_gaussians)\n",
    "#fit it to the data\n",
    "gmm.fit(train_values)"
   ]
  },
  {
   "cell_type": "markdown",
   "metadata": {},
   "source": [
    "#### Solar consumption data was either 0 or NaN. We will only fit GMM on the General Consumption values."
   ]
  },
  {
   "cell_type": "markdown",
   "metadata": {},
   "source": [
    "## Generating samples from Network"
   ]
  },
  {
   "cell_type": "code",
   "execution_count": 136,
   "metadata": {},
   "outputs": [],
   "source": [
    "net = define_network(net_case)"
   ]
  },
  {
   "cell_type": "code",
   "execution_count": 137,
   "metadata": {
    "scrolled": true
   },
   "outputs": [],
   "source": [
    "# from pandapower.plotting.plotly import simple_plotly, vlevel_plotly\n",
    "# from pandapower.plotting import cmap_discrete, create_line_collection, draw_collections\n",
    "# sns.set_style(\"darkgrid\")\n",
    "# plt.figure()\n",
    "#vlevel_plotly(net)\n",
    "#simple_plotly(net)\n",
    "# fig, ax = plt.subplots()\n",
    "# pp.plotting.simple_plot(net, ax=ax)\n",
    "# plt.savefig(\"net_14.pdf\")\n",
    "# plt.show()\n",
    "# plt.close()\n",
    "#plt.\n",
    "# plt.legend()\n",
    "# plt.show()\n",
    "# pp.plotting.to_html(net, \"test.html\")\n",
    "#, on_map=True)#, projection='epsg:31467')\n",
    "# pc = pp.plotting.create_bus_collection(net)\n",
    "# pp.plotting.draw_collections(pc)\n",
    "#pp.plotting.simple_plot(net)#, on_map=True)\n",
    "# net = pn.case57()#\"generation\") #mv_oberrhein(\"generation\")\n",
    "\n",
    "# cmap_list = [((0, 10), \"green\"), ((10, 30), \"yellow\"), ((30, 57), \"red\")]\n",
    "\n",
    "# cmap, norm = cmap_discrete(cmap_list)\n",
    "\n",
    "# lc = create_line_collection(net, cmap=cmap, norm=norm)\n",
    "\n",
    "# draw_collections([lc])"
   ]
  },
  {
   "cell_type": "code",
   "execution_count": 138,
   "metadata": {},
   "outputs": [],
   "source": [
    "# np.min(net.line['r_ohm_per_km'].values)\n",
    "#net.line.loc[net.line.r_ohm_per_km == 0,'r_ohm_per_km'] = 10.0\n",
    "#pp.diagnostic?\n",
    "# net.line['r_ohm_per_km'].values\n",
    "# np.random.choice(net.line.index, size=net.bus.shape[0])\n",
    "# success_chi2 = pp.estimation.chi2_analysis(net, init=\"flat\")"
   ]
  },
  {
   "cell_type": "code",
   "execution_count": 139,
   "metadata": {},
   "outputs": [
    {
     "name": "stderr",
     "output_type": "stream",
     "text": [
      "INFO:pypsa.pf:Performing non-linear load-flow on AC sub-network SubNetwork 0 for snapshots Index(['now'], dtype='object')\n",
      "INFO:pypsa.pf:Newton-Raphson solved in 3 iterations with error of 0.000000 in 0.026109 seconds\n",
      "INFO:pypsa.pf:Performing non-linear load-flow on AC sub-network SubNetwork 0 for snapshots Index(['now'], dtype='object')\n",
      "INFO:pypsa.pf:Newton-Raphson solved in 3 iterations with error of 0.000000 in 0.026078 seconds\n",
      "INFO:pypsa.pf:Performing non-linear load-flow on AC sub-network SubNetwork 0 for snapshots Index(['now'], dtype='object')\n",
      "INFO:pypsa.pf:Newton-Raphson solved in 3 iterations with error of 0.000000 in 0.025530 seconds\n",
      "INFO:pypsa.pf:Performing non-linear load-flow on AC sub-network SubNetwork 0 for snapshots Index(['now'], dtype='object')\n",
      "INFO:pypsa.pf:Newton-Raphson solved in 3 iterations with error of 0.000000 in 0.027921 seconds\n",
      "INFO:pypsa.pf:Performing non-linear load-flow on AC sub-network SubNetwork 0 for snapshots Index(['now'], dtype='object')\n",
      "INFO:pypsa.pf:Newton-Raphson solved in 3 iterations with error of 0.000000 in 0.028556 seconds\n",
      "INFO:pypsa.pf:Performing non-linear load-flow on AC sub-network SubNetwork 0 for snapshots Index(['now'], dtype='object')\n",
      "INFO:pypsa.pf:Newton-Raphson solved in 3 iterations with error of 0.000000 in 0.025519 seconds\n",
      "INFO:pypsa.pf:Performing non-linear load-flow on AC sub-network SubNetwork 0 for snapshots Index(['now'], dtype='object')\n",
      "INFO:pypsa.pf:Newton-Raphson solved in 3 iterations with error of 0.000000 in 0.024851 seconds\n",
      "INFO:pypsa.pf:Performing non-linear load-flow on AC sub-network SubNetwork 0 for snapshots Index(['now'], dtype='object')\n",
      "INFO:pypsa.pf:Newton-Raphson solved in 3 iterations with error of 0.000000 in 0.025075 seconds\n",
      "INFO:pypsa.pf:Performing non-linear load-flow on AC sub-network SubNetwork 0 for snapshots Index(['now'], dtype='object')\n",
      "INFO:pypsa.pf:Newton-Raphson solved in 3 iterations with error of 0.000000 in 0.025082 seconds\n",
      "INFO:pypsa.pf:Performing non-linear load-flow on AC sub-network SubNetwork 0 for snapshots Index(['now'], dtype='object')\n",
      "INFO:pypsa.pf:Newton-Raphson solved in 3 iterations with error of 0.000000 in 0.025120 seconds\n",
      "INFO:pypsa.pf:Performing non-linear load-flow on AC sub-network SubNetwork 0 for snapshots Index(['now'], dtype='object')\n",
      "INFO:pypsa.pf:Newton-Raphson solved in 3 iterations with error of 0.000000 in 0.026263 seconds\n",
      "INFO:pypsa.pf:Performing non-linear load-flow on AC sub-network SubNetwork 0 for snapshots Index(['now'], dtype='object')\n",
      "INFO:pypsa.pf:Newton-Raphson solved in 3 iterations with error of 0.000000 in 0.025475 seconds\n",
      "INFO:pypsa.pf:Performing non-linear load-flow on AC sub-network SubNetwork 0 for snapshots Index(['now'], dtype='object')\n",
      "INFO:pypsa.pf:Newton-Raphson solved in 3 iterations with error of 0.000000 in 0.027593 seconds\n",
      "INFO:pypsa.pf:Performing non-linear load-flow on AC sub-network SubNetwork 0 for snapshots Index(['now'], dtype='object')\n",
      "INFO:pypsa.pf:Newton-Raphson solved in 3 iterations with error of 0.000000 in 0.025358 seconds\n",
      "INFO:pypsa.pf:Performing non-linear load-flow on AC sub-network SubNetwork 0 for snapshots Index(['now'], dtype='object')\n",
      "INFO:pypsa.pf:Newton-Raphson solved in 3 iterations with error of 0.000000 in 0.024828 seconds\n",
      "INFO:pypsa.pf:Performing non-linear load-flow on AC sub-network SubNetwork 0 for snapshots Index(['now'], dtype='object')\n",
      "INFO:pypsa.pf:Newton-Raphson solved in 3 iterations with error of 0.000000 in 0.027978 seconds\n",
      "INFO:pypsa.pf:Performing non-linear load-flow on AC sub-network SubNetwork 0 for snapshots Index(['now'], dtype='object')\n",
      "INFO:pypsa.pf:Newton-Raphson solved in 3 iterations with error of 0.000000 in 0.025007 seconds\n",
      "INFO:pypsa.pf:Performing non-linear load-flow on AC sub-network SubNetwork 0 for snapshots Index(['now'], dtype='object')\n",
      "INFO:pypsa.pf:Newton-Raphson solved in 3 iterations with error of 0.000000 in 0.025495 seconds\n",
      "INFO:pypsa.pf:Performing non-linear load-flow on AC sub-network SubNetwork 0 for snapshots Index(['now'], dtype='object')\n",
      "INFO:pypsa.pf:Newton-Raphson solved in 3 iterations with error of 0.000000 in 0.025450 seconds\n",
      "INFO:pypsa.pf:Performing non-linear load-flow on AC sub-network SubNetwork 0 for snapshots Index(['now'], dtype='object')\n",
      "INFO:pypsa.pf:Newton-Raphson solved in 3 iterations with error of 0.000000 in 0.027362 seconds\n",
      "INFO:pypsa.pf:Performing non-linear load-flow on AC sub-network SubNetwork 0 for snapshots Index(['now'], dtype='object')\n",
      "INFO:pypsa.pf:Newton-Raphson solved in 3 iterations with error of 0.000000 in 0.025712 seconds\n",
      "INFO:pypsa.pf:Performing non-linear load-flow on AC sub-network SubNetwork 0 for snapshots Index(['now'], dtype='object')\n",
      "INFO:pypsa.pf:Newton-Raphson solved in 3 iterations with error of 0.000000 in 0.030578 seconds\n",
      "INFO:pypsa.pf:Performing non-linear load-flow on AC sub-network SubNetwork 0 for snapshots Index(['now'], dtype='object')\n",
      "INFO:pypsa.pf:Newton-Raphson solved in 3 iterations with error of 0.000000 in 0.026806 seconds\n",
      "INFO:pypsa.pf:Performing non-linear load-flow on AC sub-network SubNetwork 0 for snapshots Index(['now'], dtype='object')\n",
      "INFO:pypsa.pf:Newton-Raphson solved in 3 iterations with error of 0.000000 in 0.025310 seconds\n",
      "INFO:pypsa.pf:Performing non-linear load-flow on AC sub-network SubNetwork 0 for snapshots Index(['now'], dtype='object')\n",
      "INFO:pypsa.pf:Newton-Raphson solved in 3 iterations with error of 0.000000 in 0.027950 seconds\n",
      "INFO:pypsa.pf:Performing non-linear load-flow on AC sub-network SubNetwork 0 for snapshots Index(['now'], dtype='object')\n",
      "INFO:pypsa.pf:Newton-Raphson solved in 3 iterations with error of 0.000000 in 0.034164 seconds\n",
      "INFO:pypsa.pf:Performing non-linear load-flow on AC sub-network SubNetwork 0 for snapshots Index(['now'], dtype='object')\n",
      "INFO:pypsa.pf:Newton-Raphson solved in 3 iterations with error of 0.000000 in 0.025645 seconds\n",
      "INFO:pypsa.pf:Performing non-linear load-flow on AC sub-network SubNetwork 0 for snapshots Index(['now'], dtype='object')\n",
      "INFO:pypsa.pf:Newton-Raphson solved in 3 iterations with error of 0.000000 in 0.027776 seconds\n",
      "INFO:pypsa.pf:Performing non-linear load-flow on AC sub-network SubNetwork 0 for snapshots Index(['now'], dtype='object')\n",
      "INFO:pypsa.pf:Newton-Raphson solved in 3 iterations with error of 0.000000 in 0.031182 seconds\n",
      "INFO:pypsa.pf:Performing non-linear load-flow on AC sub-network SubNetwork 0 for snapshots Index(['now'], dtype='object')\n",
      "INFO:pypsa.pf:Newton-Raphson solved in 3 iterations with error of 0.000000 in 0.036175 seconds\n",
      "INFO:pypsa.pf:Performing non-linear load-flow on AC sub-network SubNetwork 0 for snapshots Index(['now'], dtype='object')\n",
      "INFO:pypsa.pf:Newton-Raphson solved in 3 iterations with error of 0.000000 in 0.031072 seconds\n",
      "INFO:pypsa.pf:Performing non-linear load-flow on AC sub-network SubNetwork 0 for snapshots Index(['now'], dtype='object')\n",
      "INFO:pypsa.pf:Newton-Raphson solved in 3 iterations with error of 0.000000 in 0.026513 seconds\n",
      "INFO:pypsa.pf:Performing non-linear load-flow on AC sub-network SubNetwork 0 for snapshots Index(['now'], dtype='object')\n",
      "INFO:pypsa.pf:Newton-Raphson solved in 3 iterations with error of 0.000000 in 0.050011 seconds\n",
      "INFO:pypsa.pf:Performing non-linear load-flow on AC sub-network SubNetwork 0 for snapshots Index(['now'], dtype='object')\n",
      "INFO:pypsa.pf:Newton-Raphson solved in 3 iterations with error of 0.000000 in 0.033587 seconds\n",
      "INFO:pypsa.pf:Performing non-linear load-flow on AC sub-network SubNetwork 0 for snapshots Index(['now'], dtype='object')\n",
      "INFO:pypsa.pf:Newton-Raphson solved in 3 iterations with error of 0.000000 in 0.026332 seconds\n",
      "INFO:pypsa.pf:Performing non-linear load-flow on AC sub-network SubNetwork 0 for snapshots Index(['now'], dtype='object')\n",
      "INFO:pypsa.pf:Newton-Raphson solved in 3 iterations with error of 0.000000 in 0.027023 seconds\n",
      "INFO:pypsa.pf:Performing non-linear load-flow on AC sub-network SubNetwork 0 for snapshots Index(['now'], dtype='object')\n",
      "INFO:pypsa.pf:Newton-Raphson solved in 3 iterations with error of 0.000000 in 0.029646 seconds\n",
      "INFO:pypsa.pf:Performing non-linear load-flow on AC sub-network SubNetwork 0 for snapshots Index(['now'], dtype='object')\n",
      "INFO:pypsa.pf:Newton-Raphson solved in 3 iterations with error of 0.000000 in 0.026192 seconds\n"
     ]
    },
    {
     "name": "stderr",
     "output_type": "stream",
     "text": [
      "INFO:pypsa.pf:Performing non-linear load-flow on AC sub-network SubNetwork 0 for snapshots Index(['now'], dtype='object')\n",
      "INFO:pypsa.pf:Newton-Raphson solved in 3 iterations with error of 0.000000 in 0.025578 seconds\n",
      "INFO:pypsa.pf:Performing non-linear load-flow on AC sub-network SubNetwork 0 for snapshots Index(['now'], dtype='object')\n",
      "INFO:pypsa.pf:Newton-Raphson solved in 3 iterations with error of 0.000000 in 0.027628 seconds\n",
      "INFO:pypsa.pf:Performing non-linear load-flow on AC sub-network SubNetwork 0 for snapshots Index(['now'], dtype='object')\n",
      "INFO:pypsa.pf:Newton-Raphson solved in 3 iterations with error of 0.000000 in 0.028666 seconds\n",
      "INFO:pypsa.pf:Performing non-linear load-flow on AC sub-network SubNetwork 0 for snapshots Index(['now'], dtype='object')\n",
      "INFO:pypsa.pf:Newton-Raphson solved in 3 iterations with error of 0.000000 in 0.025721 seconds\n",
      "INFO:pypsa.pf:Performing non-linear load-flow on AC sub-network SubNetwork 0 for snapshots Index(['now'], dtype='object')\n",
      "INFO:pypsa.pf:Newton-Raphson solved in 3 iterations with error of 0.000000 in 0.026214 seconds\n",
      "INFO:pypsa.pf:Performing non-linear load-flow on AC sub-network SubNetwork 0 for snapshots Index(['now'], dtype='object')\n",
      "INFO:pypsa.pf:Newton-Raphson solved in 3 iterations with error of 0.000000 in 0.035521 seconds\n",
      "INFO:pypsa.pf:Performing non-linear load-flow on AC sub-network SubNetwork 0 for snapshots Index(['now'], dtype='object')\n",
      "INFO:pypsa.pf:Newton-Raphson solved in 3 iterations with error of 0.000000 in 0.026479 seconds\n",
      "INFO:pypsa.pf:Performing non-linear load-flow on AC sub-network SubNetwork 0 for snapshots Index(['now'], dtype='object')\n",
      "INFO:pypsa.pf:Newton-Raphson solved in 3 iterations with error of 0.000000 in 0.029791 seconds\n",
      "INFO:pypsa.pf:Performing non-linear load-flow on AC sub-network SubNetwork 0 for snapshots Index(['now'], dtype='object')\n",
      "INFO:pypsa.pf:Newton-Raphson solved in 3 iterations with error of 0.000000 in 0.040596 seconds\n",
      "INFO:pypsa.pf:Performing non-linear load-flow on AC sub-network SubNetwork 0 for snapshots Index(['now'], dtype='object')\n",
      "INFO:pypsa.pf:Newton-Raphson solved in 3 iterations with error of 0.000000 in 0.028616 seconds\n",
      "INFO:pypsa.pf:Performing non-linear load-flow on AC sub-network SubNetwork 0 for snapshots Index(['now'], dtype='object')\n",
      "INFO:pypsa.pf:Newton-Raphson solved in 3 iterations with error of 0.000000 in 0.024760 seconds\n",
      "INFO:pypsa.pf:Performing non-linear load-flow on AC sub-network SubNetwork 0 for snapshots Index(['now'], dtype='object')\n",
      "INFO:pypsa.pf:Newton-Raphson solved in 3 iterations with error of 0.000000 in 0.035585 seconds\n",
      "INFO:pypsa.pf:Performing non-linear load-flow on AC sub-network SubNetwork 0 for snapshots Index(['now'], dtype='object')\n",
      "INFO:pypsa.pf:Newton-Raphson solved in 3 iterations with error of 0.000000 in 0.031243 seconds\n",
      "INFO:pypsa.pf:Performing non-linear load-flow on AC sub-network SubNetwork 0 for snapshots Index(['now'], dtype='object')\n",
      "INFO:pypsa.pf:Newton-Raphson solved in 3 iterations with error of 0.000000 in 0.049882 seconds\n",
      "INFO:pypsa.pf:Performing non-linear load-flow on AC sub-network SubNetwork 0 for snapshots Index(['now'], dtype='object')\n",
      "INFO:pypsa.pf:Newton-Raphson solved in 3 iterations with error of 0.000000 in 0.053569 seconds\n",
      "INFO:pypsa.pf:Performing non-linear load-flow on AC sub-network SubNetwork 0 for snapshots Index(['now'], dtype='object')\n",
      "INFO:pypsa.pf:Newton-Raphson solved in 3 iterations with error of 0.000000 in 0.026517 seconds\n",
      "INFO:pypsa.pf:Performing non-linear load-flow on AC sub-network SubNetwork 0 for snapshots Index(['now'], dtype='object')\n",
      "INFO:pypsa.pf:Newton-Raphson solved in 3 iterations with error of 0.000000 in 0.032253 seconds\n",
      "INFO:pypsa.pf:Performing non-linear load-flow on AC sub-network SubNetwork 0 for snapshots Index(['now'], dtype='object')\n",
      "INFO:pypsa.pf:Newton-Raphson solved in 3 iterations with error of 0.000000 in 0.027463 seconds\n",
      "INFO:pypsa.pf:Performing non-linear load-flow on AC sub-network SubNetwork 0 for snapshots Index(['now'], dtype='object')\n",
      "INFO:pypsa.pf:Newton-Raphson solved in 3 iterations with error of 0.000000 in 0.024480 seconds\n",
      "INFO:pypsa.pf:Performing non-linear load-flow on AC sub-network SubNetwork 0 for snapshots Index(['now'], dtype='object')\n",
      "INFO:pypsa.pf:Newton-Raphson solved in 3 iterations with error of 0.000000 in 0.024959 seconds\n",
      "INFO:pypsa.pf:Performing non-linear load-flow on AC sub-network SubNetwork 0 for snapshots Index(['now'], dtype='object')\n",
      "INFO:pypsa.pf:Newton-Raphson solved in 3 iterations with error of 0.000000 in 0.026571 seconds\n",
      "INFO:pypsa.pf:Performing non-linear load-flow on AC sub-network SubNetwork 0 for snapshots Index(['now'], dtype='object')\n",
      "INFO:pypsa.pf:Newton-Raphson solved in 3 iterations with error of 0.000000 in 0.036967 seconds\n",
      "INFO:pypsa.pf:Performing non-linear load-flow on AC sub-network SubNetwork 0 for snapshots Index(['now'], dtype='object')\n",
      "INFO:pypsa.pf:Newton-Raphson solved in 3 iterations with error of 0.000000 in 0.037285 seconds\n",
      "INFO:pypsa.pf:Performing non-linear load-flow on AC sub-network SubNetwork 0 for snapshots Index(['now'], dtype='object')\n",
      "INFO:pypsa.pf:Newton-Raphson solved in 3 iterations with error of 0.000000 in 0.027575 seconds\n",
      "INFO:pypsa.pf:Performing non-linear load-flow on AC sub-network SubNetwork 0 for snapshots Index(['now'], dtype='object')\n",
      "INFO:pypsa.pf:Newton-Raphson solved in 3 iterations with error of 0.000000 in 0.026928 seconds\n",
      "INFO:pypsa.pf:Performing non-linear load-flow on AC sub-network SubNetwork 0 for snapshots Index(['now'], dtype='object')\n",
      "INFO:pypsa.pf:Newton-Raphson solved in 3 iterations with error of 0.000000 in 0.029272 seconds\n",
      "INFO:pypsa.pf:Performing non-linear load-flow on AC sub-network SubNetwork 0 for snapshots Index(['now'], dtype='object')\n",
      "INFO:pypsa.pf:Newton-Raphson solved in 3 iterations with error of 0.000000 in 0.036315 seconds\n",
      "INFO:pypsa.pf:Performing non-linear load-flow on AC sub-network SubNetwork 0 for snapshots Index(['now'], dtype='object')\n",
      "INFO:pypsa.pf:Newton-Raphson solved in 3 iterations with error of 0.000000 in 0.047720 seconds\n",
      "INFO:pypsa.pf:Performing non-linear load-flow on AC sub-network SubNetwork 0 for snapshots Index(['now'], dtype='object')\n",
      "INFO:pypsa.pf:Newton-Raphson solved in 3 iterations with error of 0.000000 in 0.026579 seconds\n",
      "INFO:pypsa.pf:Performing non-linear load-flow on AC sub-network SubNetwork 0 for snapshots Index(['now'], dtype='object')\n",
      "INFO:pypsa.pf:Newton-Raphson solved in 3 iterations with error of 0.000000 in 0.025474 seconds\n",
      "INFO:pypsa.pf:Performing non-linear load-flow on AC sub-network SubNetwork 0 for snapshots Index(['now'], dtype='object')\n",
      "INFO:pypsa.pf:Newton-Raphson solved in 3 iterations with error of 0.000000 in 0.025104 seconds\n",
      "INFO:pypsa.pf:Performing non-linear load-flow on AC sub-network SubNetwork 0 for snapshots Index(['now'], dtype='object')\n",
      "INFO:pypsa.pf:Newton-Raphson solved in 3 iterations with error of 0.000000 in 0.026531 seconds\n",
      "INFO:pypsa.pf:Performing non-linear load-flow on AC sub-network SubNetwork 0 for snapshots Index(['now'], dtype='object')\n",
      "INFO:pypsa.pf:Newton-Raphson solved in 3 iterations with error of 0.000000 in 0.025675 seconds\n",
      "INFO:pypsa.pf:Performing non-linear load-flow on AC sub-network SubNetwork 0 for snapshots Index(['now'], dtype='object')\n",
      "INFO:pypsa.pf:Newton-Raphson solved in 3 iterations with error of 0.000000 in 0.025900 seconds\n",
      "INFO:pypsa.pf:Performing non-linear load-flow on AC sub-network SubNetwork 0 for snapshots Index(['now'], dtype='object')\n",
      "INFO:pypsa.pf:Newton-Raphson solved in 3 iterations with error of 0.000000 in 0.035789 seconds\n",
      "INFO:pypsa.pf:Performing non-linear load-flow on AC sub-network SubNetwork 0 for snapshots Index(['now'], dtype='object')\n",
      "INFO:pypsa.pf:Newton-Raphson solved in 3 iterations with error of 0.000000 in 0.025031 seconds\n",
      "INFO:pypsa.pf:Performing non-linear load-flow on AC sub-network SubNetwork 0 for snapshots Index(['now'], dtype='object')\n",
      "INFO:pypsa.pf:Newton-Raphson solved in 3 iterations with error of 0.000000 in 0.060535 seconds\n",
      "INFO:pypsa.pf:Performing non-linear load-flow on AC sub-network SubNetwork 0 for snapshots Index(['now'], dtype='object')\n",
      "INFO:pypsa.pf:Newton-Raphson solved in 3 iterations with error of 0.000000 in 0.026695 seconds\n"
     ]
    },
    {
     "name": "stderr",
     "output_type": "stream",
     "text": [
      "INFO:pypsa.pf:Performing non-linear load-flow on AC sub-network SubNetwork 0 for snapshots Index(['now'], dtype='object')\n",
      "INFO:pypsa.pf:Newton-Raphson solved in 3 iterations with error of 0.000000 in 0.026452 seconds\n",
      "INFO:pypsa.pf:Performing non-linear load-flow on AC sub-network SubNetwork 0 for snapshots Index(['now'], dtype='object')\n",
      "INFO:pypsa.pf:Newton-Raphson solved in 3 iterations with error of 0.000000 in 0.025644 seconds\n",
      "INFO:pypsa.pf:Performing non-linear load-flow on AC sub-network SubNetwork 0 for snapshots Index(['now'], dtype='object')\n",
      "INFO:pypsa.pf:Newton-Raphson solved in 3 iterations with error of 0.000000 in 0.026289 seconds\n",
      "INFO:pypsa.pf:Performing non-linear load-flow on AC sub-network SubNetwork 0 for snapshots Index(['now'], dtype='object')\n",
      "INFO:pypsa.pf:Newton-Raphson solved in 3 iterations with error of 0.000000 in 0.025302 seconds\n",
      "INFO:pypsa.pf:Performing non-linear load-flow on AC sub-network SubNetwork 0 for snapshots Index(['now'], dtype='object')\n",
      "INFO:pypsa.pf:Newton-Raphson solved in 3 iterations with error of 0.000000 in 0.025059 seconds\n",
      "INFO:pypsa.pf:Performing non-linear load-flow on AC sub-network SubNetwork 0 for snapshots Index(['now'], dtype='object')\n",
      "INFO:pypsa.pf:Newton-Raphson solved in 3 iterations with error of 0.000000 in 0.025288 seconds\n",
      "INFO:pypsa.pf:Performing non-linear load-flow on AC sub-network SubNetwork 0 for snapshots Index(['now'], dtype='object')\n",
      "INFO:pypsa.pf:Newton-Raphson solved in 3 iterations with error of 0.000000 in 0.050720 seconds\n",
      "INFO:pypsa.pf:Performing non-linear load-flow on AC sub-network SubNetwork 0 for snapshots Index(['now'], dtype='object')\n",
      "INFO:pypsa.pf:Newton-Raphson solved in 3 iterations with error of 0.000000 in 0.051385 seconds\n",
      "INFO:pypsa.pf:Performing non-linear load-flow on AC sub-network SubNetwork 0 for snapshots Index(['now'], dtype='object')\n",
      "INFO:pypsa.pf:Newton-Raphson solved in 3 iterations with error of 0.000000 in 0.035982 seconds\n",
      "INFO:pypsa.pf:Performing non-linear load-flow on AC sub-network SubNetwork 0 for snapshots Index(['now'], dtype='object')\n",
      "INFO:pypsa.pf:Newton-Raphson solved in 3 iterations with error of 0.000000 in 0.040162 seconds\n",
      "INFO:pypsa.pf:Performing non-linear load-flow on AC sub-network SubNetwork 0 for snapshots Index(['now'], dtype='object')\n",
      "INFO:pypsa.pf:Newton-Raphson solved in 3 iterations with error of 0.000000 in 0.029512 seconds\n",
      "INFO:pypsa.pf:Performing non-linear load-flow on AC sub-network SubNetwork 0 for snapshots Index(['now'], dtype='object')\n",
      "INFO:pypsa.pf:Newton-Raphson solved in 3 iterations with error of 0.000000 in 0.038877 seconds\n",
      "INFO:pypsa.pf:Performing non-linear load-flow on AC sub-network SubNetwork 0 for snapshots Index(['now'], dtype='object')\n",
      "INFO:pypsa.pf:Newton-Raphson solved in 3 iterations with error of 0.000000 in 0.033755 seconds\n",
      "INFO:pypsa.pf:Performing non-linear load-flow on AC sub-network SubNetwork 0 for snapshots Index(['now'], dtype='object')\n",
      "INFO:pypsa.pf:Newton-Raphson solved in 3 iterations with error of 0.000000 in 0.025131 seconds\n",
      "INFO:pypsa.pf:Performing non-linear load-flow on AC sub-network SubNetwork 0 for snapshots Index(['now'], dtype='object')\n",
      "INFO:pypsa.pf:Newton-Raphson solved in 3 iterations with error of 0.000000 in 0.026408 seconds\n",
      "INFO:pypsa.pf:Performing non-linear load-flow on AC sub-network SubNetwork 0 for snapshots Index(['now'], dtype='object')\n",
      "INFO:pypsa.pf:Newton-Raphson solved in 3 iterations with error of 0.000000 in 0.027476 seconds\n",
      "INFO:pypsa.pf:Performing non-linear load-flow on AC sub-network SubNetwork 0 for snapshots Index(['now'], dtype='object')\n",
      "INFO:pypsa.pf:Newton-Raphson solved in 3 iterations with error of 0.000000 in 0.027914 seconds\n",
      "INFO:pypsa.pf:Performing non-linear load-flow on AC sub-network SubNetwork 0 for snapshots Index(['now'], dtype='object')\n",
      "INFO:pypsa.pf:Newton-Raphson solved in 3 iterations with error of 0.000000 in 0.024797 seconds\n",
      "INFO:pypsa.pf:Performing non-linear load-flow on AC sub-network SubNetwork 0 for snapshots Index(['now'], dtype='object')\n",
      "INFO:pypsa.pf:Newton-Raphson solved in 3 iterations with error of 0.000000 in 0.027792 seconds\n",
      "INFO:pypsa.pf:Performing non-linear load-flow on AC sub-network SubNetwork 0 for snapshots Index(['now'], dtype='object')\n",
      "INFO:pypsa.pf:Newton-Raphson solved in 3 iterations with error of 0.000000 in 0.026325 seconds\n",
      "INFO:pypsa.pf:Performing non-linear load-flow on AC sub-network SubNetwork 0 for snapshots Index(['now'], dtype='object')\n",
      "INFO:pypsa.pf:Newton-Raphson solved in 3 iterations with error of 0.000000 in 0.034419 seconds\n",
      "INFO:pypsa.pf:Performing non-linear load-flow on AC sub-network SubNetwork 0 for snapshots Index(['now'], dtype='object')\n",
      "INFO:pypsa.pf:Newton-Raphson solved in 3 iterations with error of 0.000000 in 0.026791 seconds\n",
      "INFO:pypsa.pf:Performing non-linear load-flow on AC sub-network SubNetwork 0 for snapshots Index(['now'], dtype='object')\n",
      "INFO:pypsa.pf:Newton-Raphson solved in 3 iterations with error of 0.000000 in 0.027890 seconds\n",
      "INFO:pypsa.pf:Performing non-linear load-flow on AC sub-network SubNetwork 0 for snapshots Index(['now'], dtype='object')\n",
      "INFO:pypsa.pf:Newton-Raphson solved in 3 iterations with error of 0.000000 in 0.026298 seconds\n"
     ]
    }
   ],
   "source": [
    "injection_values, network_state_samples, measurement_vector = generate_samples(net_case,n_of_network_samples,net, percent_of_measurements, estimation_method, gmm, net_type)"
   ]
  },
  {
   "cell_type": "markdown",
   "metadata": {},
   "source": [
    "## Fitting NN Model"
   ]
  },
  {
   "cell_type": "code",
   "execution_count": 140,
   "metadata": {},
   "outputs": [
    {
     "name": "stdout",
     "output_type": "stream",
     "text": [
      "Training ... With default parameters, this takes less than 10 seconds.\n",
      "Average test loss:  0.006506786050885599\n"
     ]
    }
   ],
   "source": [
    "logdir = \"logs/scalars/\" + datetime.now().strftime(\"%Y%m%d-%H%M%S\")\n",
    "tensorboard_callback = tf.keras.callbacks.TensorBoard(log_dir=logdir)\n",
    "\n",
    "model = tf.keras.models.Sequential([\n",
    "    tf.keras.layers.BatchNormalization(),\n",
    "    tf.keras.layers.Dense(layer_proportions[0]*measurement_vector.shape[1],input_dim=measurement_vector.shape[1]),\n",
    "    tf.keras.layers.Dense(layer_proportions[1]*measurement_vector.shape[1], input_dim=layer_proportions[0]*measurement_vector.shape[1]),\n",
    "    tf.keras.layers.Dense(network_state_samples.shape[1], input_dim=layer_proportions[1]*measurement_vector.shape[1]),\n",
    "])\n",
    "\n",
    "model.compile(\n",
    "    loss='mse', # keras.losses.mean_squared_error\n",
    "    optimizer=tf.keras.optimizers.SGD(lr=0.2),\n",
    ")\n",
    "\n",
    "print(\"Training ... With default parameters, this takes less than 10 seconds.\")\n",
    "training_history = model.fit(\n",
    "    injection_values[:int(measurement_vector.shape[0]*train_frac)], # input\n",
    "    network_state_samples[:int(measurement_vector.shape[0]*train_frac)], # output\n",
    "    batch_size=int(measurement_vector.shape[0]*train_frac),\n",
    "    verbose=0, # Suppress chatty output; use Tensorboard instead\n",
    "    epochs=50,\n",
    "    validation_data=(injection_values[int(measurement_vector.shape[0]*train_frac):], network_state_samples[int(measurement_vector.shape[0]*train_frac):]),\n",
    "    callbacks=[tensorboard_callback],\n",
    ")\n",
    "\n",
    "print(\"Average test loss: \", np.average(training_history.history['loss']))\n"
   ]
  },
  {
   "cell_type": "code",
   "execution_count": 141,
   "metadata": {},
   "outputs": [
    {
     "data": {
      "text/plain": [
       "[<matplotlib.lines.Line2D at 0x7f2b98b2ca90>]"
      ]
     },
     "execution_count": 141,
     "metadata": {},
     "output_type": "execute_result"
    },
    {
     "data": {
      "image/png": "[encoded data removed]",
      "text/plain": [
       "<Figure size 432x288 with 1 Axes>"
      ]
     },
     "metadata": {},
     "output_type": "display_data"
    }
   ],
   "source": [
    "plt.plot(np.log(training_history.history['loss']))"
   ]
  },
  {
   "cell_type": "code",
   "execution_count": 142,
   "metadata": {},
   "outputs": [
    {
     "data": {
      "text/plain": [
       "<matplotlib.collections.PathCollection at 0x7f2b849e6e10>"
      ]
     },
     "execution_count": 142,
     "metadata": {},
     "output_type": "execute_result"
    },
    {
     "data": {
      "image/png": "[encoded data removed]",
      "text/plain": [
       "<Figure size 432x288 with 1 Axes>"
      ]
     },
     "metadata": {},
     "output_type": "display_data"
    }
   ],
   "source": [
    "plt.scatter(model.predict(injection_values[-10:]),network_state_samples[-10:])"
   ]
  },
  {
   "cell_type": "code",
   "execution_count": 143,
   "metadata": {},
   "outputs": [
    {
     "name": "stdout",
     "output_type": "stream",
     "text": [
      "torch.Size([80, 1, 1]) torch.Size([80, 3])\n",
      "Epoch: 1 \tTrain loss: 0.03393575 \t\n",
      "Test loss: 0.00000739, Accuracy: 0/20 (0.00000000%)\n",
      "\n"
     ]
    },
    {
     "name": "stderr",
     "output_type": "stream",
     "text": [
      "/home/rafael/BCDL_SEEEDN/compress_model.py:134: UserWarning:\n",
      "\n",
      "volatile was removed and now has no effect. Use `with torch.no_grad():` instead.\n",
      "\n",
      "/home/rafael/anaconda3/lib/python3.7/site-packages/torch/nn/_reduction.py:44: UserWarning:\n",
      "\n",
      "size_average and reduce args will be deprecated, please use reduction='sum' instead.\n",
      "\n"
     ]
    },
    {
     "name": "stdout",
     "output_type": "stream",
     "text": [
      "Epoch: 2 \tTrain loss: 0.03388456 \t\n",
      "Test loss: 0.00002560, Accuracy: 0/20 (0.00000000%)\n",
      "\n",
      "Epoch: 3 \tTrain loss: 0.03418333 \t\n",
      "Test loss: 0.00005133, Accuracy: 0/20 (0.00000000%)\n",
      "\n",
      "Epoch: 4 \tTrain loss: 0.03336519 \t\n",
      "Test loss: 0.00008298, Accuracy: 0/20 (0.00000000%)\n",
      "\n",
      "Epoch: 5 \tTrain loss: 0.03355255 \t\n",
      "Test loss: 0.00011574, Accuracy: 0/20 (0.00000000%)\n",
      "\n",
      "Epoch: 6 \tTrain loss: 0.03305884 \t\n",
      "Test loss: 0.00014931, Accuracy: 0/20 (0.00000000%)\n",
      "\n",
      "Epoch: 7 \tTrain loss: 0.03312145 \t\n",
      "Test loss: 0.00018781, Accuracy: 0/20 (0.00000000%)\n",
      "\n",
      "Epoch: 8 \tTrain loss: 0.03273407 \t\n",
      "Test loss: 0.00022169, Accuracy: 0/20 (0.00000000%)\n",
      "\n",
      "Epoch: 9 \tTrain loss: 0.03304304 \t\n",
      "Test loss: 0.00024894, Accuracy: 0/20 (0.00000000%)\n",
      "\n",
      "Epoch: 10 \tTrain loss: 0.03276308 \t\n",
      "Test loss: 0.00026669, Accuracy: 0/20 (0.00000000%)\n",
      "\n",
      "Epoch: 11 \tTrain loss: 0.03228983 \t\n",
      "Test loss: 0.00027784, Accuracy: 0/20 (0.00000000%)\n",
      "\n",
      "Epoch: 12 \tTrain loss: 0.03227485 \t\n",
      "Test loss: 0.00028681, Accuracy: 0/20 (0.00000000%)\n",
      "\n",
      "Epoch: 13 \tTrain loss: 0.03272146 \t\n",
      "Test loss: 0.00029134, Accuracy: 0/20 (0.00000000%)\n",
      "\n",
      "Epoch: 14 \tTrain loss: 0.03223534 \t\n",
      "Test loss: 0.00029149, Accuracy: 0/20 (0.00000000%)\n",
      "\n",
      "Epoch: 15 \tTrain loss: 0.03221922 \t\n",
      "Test loss: 0.00028905, Accuracy: 0/20 (0.00000000%)\n",
      "\n",
      "Epoch: 16 \tTrain loss: 0.03198775 \t\n",
      "Test loss: 0.00028796, Accuracy: 0/20 (0.00000000%)\n",
      "\n",
      "Epoch: 17 \tTrain loss: 0.03190924 \t\n",
      "Test loss: 0.00028443, Accuracy: 0/20 (0.00000000%)\n",
      "\n",
      "Epoch: 18 \tTrain loss: 0.03175916 \t\n",
      "Test loss: 0.00027852, Accuracy: 0/20 (0.00000000%)\n",
      "\n",
      "Epoch: 19 \tTrain loss: 0.03180917 \t\n",
      "Test loss: 0.00027261, Accuracy: 0/20 (0.00000000%)\n",
      "\n",
      "Epoch: 20 \tTrain loss: 0.03144065 \t\n",
      "Test loss: 0.00026271, Accuracy: 0/20 (0.00000000%)\n",
      "\n",
      "Epoch: 21 \tTrain loss: 0.03153011 \t\n",
      "Test loss: 0.00025091, Accuracy: 0/20 (0.00000000%)\n",
      "\n",
      "Epoch: 22 \tTrain loss: 0.03150259 \t\n",
      "Test loss: 0.00023784, Accuracy: 0/20 (0.00000000%)\n",
      "\n",
      "Epoch: 23 \tTrain loss: 0.03121389 \t\n",
      "Test loss: 0.00022101, Accuracy: 0/20 (0.00000000%)\n",
      "\n",
      "Epoch: 24 \tTrain loss: 0.03152775 \t\n",
      "Test loss: 0.00020332, Accuracy: 0/20 (0.00000000%)\n",
      "\n",
      "Epoch: 25 \tTrain loss: 0.03135571 \t\n",
      "Test loss: 0.00018478, Accuracy: 0/20 (0.00000000%)\n",
      "\n",
      "Epoch: 26 \tTrain loss: 0.03093652 \t\n",
      "Test loss: 0.00016874, Accuracy: 0/20 (0.00000000%)\n",
      "\n",
      "Epoch: 27 \tTrain loss: 0.03131192 \t\n",
      "Test loss: 0.00015421, Accuracy: 0/20 (0.00000000%)\n",
      "\n",
      "Epoch: 28 \tTrain loss: 0.03086274 \t\n",
      "Test loss: 0.00014084, Accuracy: 0/20 (0.00000000%)\n",
      "\n",
      "Epoch: 29 \tTrain loss: 0.03071322 \t\n",
      "Test loss: 0.00012746, Accuracy: 0/20 (0.00000000%)\n",
      "\n",
      "Epoch: 30 \tTrain loss: 0.03035740 \t\n",
      "Test loss: 0.00011639, Accuracy: 0/20 (0.00000000%)\n",
      "\n",
      "Epoch: 31 \tTrain loss: 0.03052089 \t\n",
      "Test loss: 0.00010670, Accuracy: 0/20 (0.00000000%)\n",
      "\n",
      "Epoch: 32 \tTrain loss: 0.03068153 \t\n",
      "Test loss: 0.00009964, Accuracy: 0/20 (0.00000000%)\n",
      "\n",
      "Epoch: 33 \tTrain loss: 0.03047823 \t\n",
      "Test loss: 0.00009514, Accuracy: 0/20 (0.00000000%)\n",
      "\n",
      "Epoch: 34 \tTrain loss: 0.03047829 \t\n",
      "Test loss: 0.00009148, Accuracy: 0/20 (0.00000000%)\n",
      "\n",
      "Epoch: 35 \tTrain loss: 0.03023499 \t\n",
      "Test loss: 0.00008884, Accuracy: 0/20 (0.00000000%)\n",
      "\n",
      "Epoch: 36 \tTrain loss: 0.03034384 \t\n",
      "Test loss: 0.00008962, Accuracy: 0/20 (0.00000000%)\n",
      "\n",
      "Epoch: 37 \tTrain loss: 0.03011955 \t\n",
      "Test loss: 0.00009191, Accuracy: 0/20 (0.00000000%)\n",
      "\n",
      "Epoch: 38 \tTrain loss: 0.02989637 \t\n",
      "Test loss: 0.00009600, Accuracy: 0/20 (0.00000000%)\n",
      "\n",
      "Epoch: 39 \tTrain loss: 0.02965928 \t\n",
      "Test loss: 0.00010022, Accuracy: 0/20 (0.00000000%)\n",
      "\n",
      "Epoch: 40 \tTrain loss: 0.02994878 \t\n",
      "Test loss: 0.00010248, Accuracy: 0/20 (0.00000000%)\n",
      "\n",
      "Epoch: 41 \tTrain loss: 0.02959292 \t\n",
      "Test loss: 0.00010455, Accuracy: 0/20 (0.00000000%)\n",
      "\n",
      "Epoch: 42 \tTrain loss: 0.02966319 \t\n",
      "Test loss: 0.00010602, Accuracy: 0/20 (0.00000000%)\n",
      "\n",
      "Epoch: 43 \tTrain loss: 0.02939192 \t\n",
      "Test loss: 0.00010520, Accuracy: 0/20 (0.00000000%)\n",
      "\n",
      "Epoch: 44 \tTrain loss: 0.02934678 \t\n",
      "Test loss: 0.00010312, Accuracy: 0/20 (0.00000000%)\n",
      "\n",
      "Epoch: 45 \tTrain loss: 0.02889848 \t\n",
      "Test loss: 0.00010106, Accuracy: 0/20 (0.00000000%)\n",
      "\n",
      "Epoch: 46 \tTrain loss: 0.02898279 \t\n",
      "Test loss: 0.00009761, Accuracy: 0/20 (0.00000000%)\n",
      "\n",
      "Epoch: 47 \tTrain loss: 0.02930116 \t\n",
      "Test loss: 0.00009395, Accuracy: 0/20 (0.00000000%)\n",
      "\n",
      "Epoch: 48 \tTrain loss: 0.02873175 \t\n",
      "Test loss: 0.00008999, Accuracy: 0/20 (0.00000000%)\n",
      "\n",
      "Epoch: 49 \tTrain loss: 0.02902611 \t\n",
      "Test loss: 0.00008721, Accuracy: 0/20 (0.00000000%)\n",
      "\n",
      "Epoch: 50 \tTrain loss: 0.02878271 \t\n",
      "Test loss: 0.00008524, Accuracy: 0/20 (0.00000000%)\n",
      "\n",
      "Compressing the architecture will degrease the model by a factor of 1.0.\n",
      "Making use of weight uncertainty can reduce the model by a factor of 2.0.\n",
      "Test error after with reduced bit precision:\n",
      "Test loss: 0.00008510, Accuracy: 0/20 (0.00000000%)\n",
      "\n"
     ]
    }
   ],
   "source": [
    "if __name__ == '__main__':\n",
    "\n",
    "    class FLAGS:\n",
    "        epochs=50\n",
    "        batchsize=100\n",
    "        thresholds=[-2.8, -3., -5.]\n",
    "        \n",
    "    FLAGS.cuda = torch.cuda.is_available()  # check if we can put the net on the GPU\n",
    "\n",
    "    compress_model(injection_values, measurement_vector, train_frac, network_state_samples, layer_proportions, N, FLAGS)"
   ]
  }
 ],
 "metadata": {
  "kernelspec": {
   "display_name": "Python 3",
   "language": "python",
   "name": "python3"
  },
  "language_info": {
   "codemirror_mode": {
    "name": "ipython",
    "version": 3
   },
   "file_extension": ".py",
   "mimetype": "text/x-python",
   "name": "python",
   "nbconvert_exporter": "python",
   "pygments_lexer": "ipython3",
   "version": "3.7.6"
  }
 },
 "nbformat": 4,
 "nbformat_minor": 4
}
